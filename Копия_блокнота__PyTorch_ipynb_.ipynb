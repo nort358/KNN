{
  "nbformat": 4,
  "nbformat_minor": 0,
  "metadata": {
    "kernelspec": {
      "display_name": "Python 3",
      "language": "python",
      "name": "python3"
    },
    "language_info": {
      "codemirror_mode": {
        "name": "ipython",
        "version": 3
      },
      "file_extension": ".py",
      "mimetype": "text/x-python",
      "name": "python",
      "nbconvert_exporter": "python",
      "pygments_lexer": "ipython3",
      "version": "3.7.0"
    },
    "colab": {
      "name": "Копия блокнота \"PyTorch.ipynb\"",
      "provenance": [],
      "collapsed_sections": []
    }
  },
  "cells": [
    {
      "cell_type": "markdown",
      "metadata": {
        "id": "xwF5EAQJ8uv8"
      },
      "source": [
        "# Задание 2.2 - Введение в PyTorch\n",
        "\n",
        "Для этого задания потребуется установить версию PyTorch 1.0\n",
        "\n",
        "https://pytorch.org/get-started/locally/\n",
        "\n",
        "В этом задании мы познакомимся с основными компонентами PyTorch и натренируем несколько небольших моделей.<br>\n",
        "GPU нам пока не понадобится.\n",
        "\n",
        "Основные ссылки:  \n",
        "https://pytorch.org/tutorials/beginner/deep_learning_60min_blitz.html  \n",
        "https://pytorch.org/docs/stable/nn.html  \n",
        "https://pytorch.org/docs/stable/torchvision/index.html  "
      ]
    },
    {
      "cell_type": "code",
      "metadata": {
        "scrolled": true,
        "id": "_BtAdM-P8uwA"
      },
      "source": [
        "import torch\n",
        "import torch.nn as nn\n",
        "import torch.optim as optim\n",
        "import torchvision.datasets as dset\n",
        "from torch.utils.data.sampler import SubsetRandomSampler, Sampler\n",
        "\n",
        "from torchvision import transforms\n",
        "\n",
        "import matplotlib.pyplot as plt\n",
        "%matplotlib inline\n",
        "\n",
        "import numpy as np"
      ],
      "execution_count": null,
      "outputs": []
    },
    {
      "cell_type": "markdown",
      "metadata": {
        "id": "jIi0YPrc8uwC"
      },
      "source": [
        "## Как всегда, начинаем с загрузки данных\n",
        "\n",
        "PyTorch поддерживает загрузку SVHN из коробки."
      ]
    },
    {
      "cell_type": "code",
      "metadata": {
        "colab": {
          "base_uri": "https://localhost:8080/"
        },
        "id": "H7k1lbA7oxC-",
        "outputId": "c6a6a8a4-ac96-45f2-bef0-6e3b959e8346"
      },
      "source": [
        "!wget -c http://ufldl.stanford.edu/housenumbers/train_32x32.mat http://ufldl.stanford.edu/housenumbers/test_32x32.mat"
      ],
      "execution_count": null,
      "outputs": [
        {
          "output_type": "stream",
          "name": "stdout",
          "text": [
            "--2021-09-03 05:28:23--  http://ufldl.stanford.edu/housenumbers/train_32x32.mat\n",
            "Resolving ufldl.stanford.edu (ufldl.stanford.edu)... 171.64.68.10\n",
            "Connecting to ufldl.stanford.edu (ufldl.stanford.edu)|171.64.68.10|:80... connected.\n",
            "HTTP request sent, awaiting response... 200 OK\n",
            "Length: 182040794 (174M) [text/plain]\n",
            "Saving to: ‘train_32x32.mat’\n",
            "\n",
            "train_32x32.mat     100%[===================>] 173.61M  12.8MB/s    in 13s     \n",
            "\n",
            "2021-09-03 05:28:36 (13.2 MB/s) - ‘train_32x32.mat’ saved [182040794/182040794]\n",
            "\n",
            "--2021-09-03 05:28:36--  http://ufldl.stanford.edu/housenumbers/test_32x32.mat\n",
            "Reusing existing connection to ufldl.stanford.edu:80.\n",
            "HTTP request sent, awaiting response... 200 OK\n",
            "Length: 64275384 (61M) [text/plain]\n",
            "Saving to: ‘test_32x32.mat’\n",
            "\n",
            "test_32x32.mat      100%[===================>]  61.30M  36.6MB/s    in 1.7s    \n",
            "\n",
            "2021-09-03 05:28:38 (36.6 MB/s) - ‘test_32x32.mat’ saved [64275384/64275384]\n",
            "\n",
            "FINISHED --2021-09-03 05:28:38--\n",
            "Total wall clock time: 15s\n",
            "Downloaded: 2 files, 235M in 15s (15.8 MB/s)\n"
          ]
        }
      ]
    },
    {
      "cell_type": "code",
      "metadata": {
        "scrolled": true,
        "id": "zDNId8rO8uwE"
      },
      "source": [
        "# First, lets load the dataset\n",
        "data_train = dset.SVHN('./', split='train',\n",
        "                       transform=transforms.Compose([\n",
        "                           transforms.ToTensor(),\n",
        "                           transforms.Normalize(mean=[0.43,0.44,0.47],\n",
        "                                               std=[0.20,0.20,0.20])                           \n",
        "                       ])\n",
        "                      )\n",
        "data_test = dset.SVHN('./', split='test', \n",
        "                      transform=transforms.Compose([\n",
        "                           transforms.ToTensor(),\n",
        "                           transforms.Normalize(mean=[0.43,0.44,0.47],\n",
        "                                               std=[0.20,0.20,0.20])                           \n",
        "                       ]))"
      ],
      "execution_count": null,
      "outputs": []
    },
    {
      "cell_type": "markdown",
      "metadata": {
        "id": "XrMmaycV8uwG"
      },
      "source": [
        "Теперь мы разделим данные на training и validation с использованием классов `SubsetRandomSampler` и `DataLoader`.\n",
        "\n",
        "`DataLoader` подгружает данные, предоставляемые классом `Dataset`, во время тренировки и группирует их в батчи.\n",
        "Он дает возможность указать `Sampler`, который выбирает, какие примеры из датасета использовать для тренировки. Мы используем это, чтобы разделить данные на training и validation.\n",
        "\n",
        "Подробнее: https://pytorch.org/tutorials/beginner/data_loading_tutorial.html"
      ]
    },
    {
      "cell_type": "code",
      "metadata": {
        "scrolled": true,
        "id": "o-OTMlaY8uwH"
      },
      "source": [
        "batch_size = 64\n",
        "\n",
        "data_size = data_train.data.shape[0]\n",
        "validation_split = .2\n",
        "split = int(np.floor(validation_split * data_size))\n",
        "indices = list(range(data_size))\n",
        "np.random.shuffle(indices)\n",
        "\n",
        "train_indices, val_indices = indices[split:], indices[:split]\n",
        "\n",
        "train_sampler = SubsetRandomSampler(train_indices)\n",
        "val_sampler = SubsetRandomSampler(val_indices)\n",
        "\n",
        "train_loader = torch.utils.data.DataLoader(data_train, batch_size=batch_size, \n",
        "                                           sampler=train_sampler)\n",
        "val_loader = torch.utils.data.DataLoader(data_train, batch_size=batch_size,\n",
        "                                         sampler=val_sampler)"
      ],
      "execution_count": null,
      "outputs": []
    },
    {
      "cell_type": "markdown",
      "metadata": {
        "id": "x3QtwsTS8uwK"
      },
      "source": [
        "В нашей задаче мы получаем на вход изображения, но работаем с ними как с одномерными массивами. Чтобы превратить многомерный массив в одномерный, мы воспользуемся очень простым вспомогательным модулем `Flattener`."
      ]
    },
    {
      "cell_type": "code",
      "metadata": {
        "scrolled": true,
        "id": "MbGKqxJc8uwM",
        "colab": {
          "base_uri": "https://localhost:8080/"
        },
        "outputId": "770b9d9f-cb7e-4355-f11f-fd414ecef282"
      },
      "source": [
        "sample, label = data_train[0]\n",
        "print(\"SVHN data sample shape: \", sample.shape)\n",
        "# As you can see, the data is shaped like an image\n",
        "\n",
        "# We'll use a special helper module to shape it into a tensor\n",
        "class Flattener(nn.Module):\n",
        "    def forward(self, x):\n",
        "        batch_size, *_ = x.shape\n",
        "        return x.view(batch_size, -1)"
      ],
      "execution_count": null,
      "outputs": [
        {
          "output_type": "stream",
          "name": "stdout",
          "text": [
            "SVHN data sample shape:  torch.Size([3, 32, 32])\n"
          ]
        }
      ]
    },
    {
      "cell_type": "markdown",
      "metadata": {
        "id": "ovZytH1b8uwO"
      },
      "source": [
        "И наконец, мы создаем основные объекты PyTorch:\n",
        "- `nn_model` - собственно, модель с нейросетью\n",
        "- `loss` - функцию ошибки, в нашем случае `CrossEntropyLoss`\n",
        "- `optimizer` - алгоритм оптимизации, в нашем случае просто `SGD`"
      ]
    },
    {
      "cell_type": "code",
      "metadata": {
        "scrolled": true,
        "id": "BtZxe1yP8uwQ"
      },
      "source": [
        "nn_model = nn.Sequential(\n",
        "            Flattener(),\n",
        "            nn.Linear(3*32*32, 100),\n",
        "            nn.ReLU(inplace=True),\n",
        "            nn.Linear(100, 10), \n",
        "         )\n",
        "nn_model.type(torch.FloatTensor)\n",
        "\n",
        "# We will minimize cross-entropy between the ground truth and\n",
        "# network predictions using an SGD optimizer\n",
        "loss = nn.CrossEntropyLoss().type(torch.FloatTensor)\n",
        "optimizer = optim.SGD(nn_model.parameters(), lr=1e-2, weight_decay=1e-1,momentum=0.9)"
      ],
      "execution_count": null,
      "outputs": []
    },
    {
      "cell_type": "markdown",
      "metadata": {
        "id": "ecu9Xdiq8uwS"
      },
      "source": [
        "## Тренируем!\n",
        "\n",
        "Ниже приведена функция `train_model`, реализующая основной цикл тренировки PyTorch.\n",
        "\n",
        "Каждую эпоху эта функция вызывает функцию `compute_accuracy`, которая вычисляет точность на validation, эту последнюю функцию предлагается реализовать вам."
      ]
    },
    {
      "cell_type": "code",
      "metadata": {
        "scrolled": true,
        "id": "m8JM7wI98uwT",
        "colab": {
          "base_uri": "https://localhost:8080/"
        },
        "outputId": "2aba02d5-ef02-4822-c340-38f8257989ce"
      },
      "source": [
        "# This is how to implement the same main train loop in PyTorch. Pretty easy, right?\n",
        "\n",
        "def train_model(model, train_loader, val_loader, loss, optimizer, num_epochs):  \n",
        "    # scheduler = lr_scheduler.StepLR(optimizer,1,0.5)\n",
        "\n",
        "    loss_history = []\n",
        "    train_history = []\n",
        "    val_history = []\n",
        "    for epoch in range(num_epochs):\n",
        "        model.train() # Enter train mode\n",
        "        \n",
        "        loss_accum = 0\n",
        "        correct_samples = 0\n",
        "        total_samples = 0\n",
        "        for i_step, (x, y) in enumerate(train_loader):\n",
        "            prediction = model(x)    \n",
        "            loss_value = loss(prediction, y)\n",
        "            optimizer.zero_grad()\n",
        "            loss_value.backward()\n",
        "            optimizer.step()\n",
        "            \n",
        "            _, indices = torch.max(prediction, 1)\n",
        "            correct_samples += torch.sum(indices == y)\n",
        "            total_samples += y.shape[0]\n",
        "            \n",
        "            loss_accum += loss_value\n",
        "\n",
        "        ave_loss = loss_accum / (i_step + 1)\n",
        "        train_accuracy = float(correct_samples) / total_samples\n",
        "        val_accuracy = compute_accuracy(model, val_loader)\n",
        "        # scheduler.step()\n",
        "\n",
        "        loss_history.append(float(ave_loss))\n",
        "        train_history.append(train_accuracy)\n",
        "        val_history.append(val_accuracy)\n",
        "        \n",
        "        print(\"Average loss: %f, Train accuracy: %f, Val accuracy: %f\" % (ave_loss, train_accuracy, val_accuracy))\n",
        "        \n",
        "    return loss_history, train_history, val_history\n",
        "        \n",
        "def compute_accuracy(model, loader):\n",
        "    \"\"\"\n",
        "    Computes accuracy on the dataset wrapped in a loader\n",
        "    \n",
        "    Returns: accuracy as a float value between 0 and 1\n",
        "    \"\"\"\n",
        "    \n",
        "    correct_samples = 0\n",
        "    total_samples = 0\n",
        "    model.eval()\n",
        "     # Evaluation mode\n",
        "    # TODO: Implement the inference of the model on all of the batches from loader,\n",
        "    #       and compute the overall accuracy.\n",
        "    # Hint: PyTorch has the argmax function!\n",
        "    for i_step, (x, y) in enumerate(val_loader):\n",
        "      prediction = model(x)  \n",
        "      _, indices = torch.max(prediction, 1)\n",
        "      correct_samples += torch.sum(indices == y)\n",
        "      total_samples += y.shape[0]\n",
        "      val_accuracy = float(correct_samples) / total_samples\n",
        "    return val_accuracy\n",
        "\n",
        "loss_history, train_history, val_history = train_model(nn_model, train_loader, val_loader, loss, optimizer, 3)"
      ],
      "execution_count": null,
      "outputs": [
        {
          "output_type": "stream",
          "name": "stdout",
          "text": [
            "Average loss: 1.634649, Train accuracy: 0.465225, Val accuracy: 0.538189\n",
            "Average loss: 1.530745, Train accuracy: 0.514998, Val accuracy: 0.517303\n",
            "Average loss: 1.529817, Train accuracy: 0.515817, Val accuracy: 0.504744\n"
          ]
        }
      ]
    },
    {
      "cell_type": "code",
      "metadata": {
        "colab": {
          "base_uri": "https://localhost:8080/"
        },
        "id": "ufJVtj9p2uLK",
        "outputId": "e9927b21-d327-47fe-de5c-fbd1ee622b3c"
      },
      "source": [
        "loss_history, train_history, val_history = train_model(nn_model, train_loader, val_loader, loss, optimizer, 3)"
      ],
      "execution_count": null,
      "outputs": [
        {
          "output_type": "stream",
          "name": "stdout",
          "text": [
            "Average loss: 1.525565, Train accuracy: 0.518002, Val accuracy: 0.534298\n",
            "Average loss: 1.515050, Train accuracy: 0.521175, Val accuracy: 0.490751\n",
            "Average loss: 1.530633, Train accuracy: 0.511978, Val accuracy: 0.510750\n"
          ]
        }
      ]
    },
    {
      "cell_type": "code",
      "metadata": {
        "colab": {
          "base_uri": "https://localhost:8080/"
        },
        "id": "-d1QGgAl3E2h",
        "outputId": "85123aa9-527d-4b36-d9aa-ddbad484898b"
      },
      "source": [
        "loss_history, train_history, val_history = train_model(nn_model, train_loader, val_loader, loss, optimizer, 3)"
      ],
      "execution_count": null,
      "outputs": [
        {
          "output_type": "stream",
          "name": "stdout",
          "text": [
            "Average loss: 1.541425, Train accuracy: 0.509146, Val accuracy: 0.519760\n",
            "Average loss: 1.537581, Train accuracy: 0.508685, Val accuracy: 0.511569\n",
            "Average loss: 1.521779, Train accuracy: 0.518223, Val accuracy: 0.536755\n"
          ]
        }
      ]
    },
    {
      "cell_type": "code",
      "metadata": {
        "colab": {
          "base_uri": "https://localhost:8080/"
        },
        "id": "eNuGAh-y3WQ0",
        "outputId": "3bb0b1ab-4964-44b1-edd0-fa2ecff486a8"
      },
      "source": [
        "loss_history, train_history, val_history = train_model(nn_model, train_loader, val_loader, loss, optimizer, 3)"
      ],
      "execution_count": null,
      "outputs": [
        {
          "output_type": "stream",
          "name": "stdout",
          "text": [
            "Average loss: 1.528642, Train accuracy: 0.512797, Val accuracy: 0.499283\n",
            "Average loss: 1.537189, Train accuracy: 0.512900, Val accuracy: 0.480035\n",
            "Average loss: 1.532366, Train accuracy: 0.513122, Val accuracy: 0.503447\n"
          ]
        }
      ]
    },
    {
      "cell_type": "markdown",
      "metadata": {
        "id": "BX5_6Wrn8uwX"
      },
      "source": [
        "## После основного цикла\n",
        "\n",
        "Посмотрим на другие возможности и оптимизации, которые предоставляет PyTorch.\n",
        "\n",
        "Добавьте еще один скрытый слой размера 100 нейронов к модели"
      ]
    },
    {
      "cell_type": "code",
      "metadata": {
        "scrolled": true,
        "id": "65yzIlQv8uwY",
        "colab": {
          "base_uri": "https://localhost:8080/"
        },
        "outputId": "33fce7d8-0bf8-4883-e5e7-53a9b9f87001"
      },
      "source": [
        "# Since it's so easy to add layers, let's add some!\n",
        "\n",
        "# TODO: Implement a model with 2 hidden layers of the size 100\n",
        "nn_model = nn.Sequential(\n",
        "            Flattener(),\n",
        "            nn.Linear(3*32*32, 100),\n",
        "            nn.ReLU(inplace=True),\n",
        "            nn.Linear(100, 100), \n",
        "            nn.ReLU(inplace=True),\n",
        "            nn.Linear(100, 10), \n",
        "       )\n",
        "nn_model.type(torch.FloatTensor)\n",
        "\n",
        "optimizer = optim.SGD(nn_model.parameters(), lr=1e-2, weight_decay=1e-1)\n",
        "loss_history, train_history, val_history = train_model(nn_model, train_loader, val_loader, loss, optimizer, 5)"
      ],
      "execution_count": null,
      "outputs": [
        {
          "output_type": "stream",
          "name": "stdout",
          "text": [
            "Average loss: 2.187663, Train accuracy: 0.197215, Val accuracy: 0.223261\n",
            "Average loss: 1.988946, Train accuracy: 0.287291, Val accuracy: 0.351102\n",
            "Average loss: 1.787679, Train accuracy: 0.380354, Val accuracy: 0.405365\n",
            "Average loss: 1.707302, Train accuracy: 0.415623, Val accuracy: 0.434714\n",
            "Average loss: 1.683254, Train accuracy: 0.430997, Val accuracy: 0.437376\n"
          ]
        }
      ]
    },
    {
      "cell_type": "markdown",
      "metadata": {
        "id": "J-a4oEq88uwZ"
      },
      "source": [
        "Добавьте слой с Batch Normalization"
      ]
    },
    {
      "cell_type": "code",
      "metadata": {
        "scrolled": true,
        "id": "Gc_hgl_88uwZ",
        "colab": {
          "base_uri": "https://localhost:8080/"
        },
        "outputId": "34f0a462-852f-40d3-e0f9-6992135839ba"
      },
      "source": [
        "# We heard batch normalization is powerful, let's use it!\n",
        "# TODO: Add batch normalization after each of the hidden layers of the network, before or after non-linearity\n",
        "# Hint: check out torch.nn.BatchNorm1d\n",
        "\n",
        "nn_model = nn.Sequential(\n",
        "            Flattener(),\n",
        "            nn.Linear(3*32*32, 100),\n",
        "            nn.BatchNorm1d(100),\n",
        "            nn.ReLU(inplace=True),\n",
        "            nn.Linear(100, 100), \n",
        "            nn.BatchNorm1d(100),\n",
        "            nn.ReLU(inplace=True),\n",
        "            nn.Linear(100, 10)\n",
        "         )\n",
        "\n",
        "optimizer = optim.SGD(nn_model.parameters(), lr=1e-3, weight_decay=1e-1)\n",
        "loss_history, train_history, val_history = train_model(nn_model, train_loader, val_loader, loss, optimizer, 5)"
      ],
      "execution_count": null,
      "outputs": [
        {
          "output_type": "stream",
          "name": "stdout",
          "text": [
            "Average loss: 2.049915, Train accuracy: 0.322237, Val accuracy: 0.442359\n",
            "Average loss: 1.767848, Train accuracy: 0.481623, Val accuracy: 0.537711\n",
            "Average loss: 1.629050, Train accuracy: 0.553834, Val accuracy: 0.592792\n",
            "Average loss: 1.537087, Train accuracy: 0.593540, Val accuracy: 0.606853\n",
            "Average loss: 1.470132, Train accuracy: 0.622496, Val accuracy: 0.648283\n"
          ]
        }
      ]
    },
    {
      "cell_type": "markdown",
      "metadata": {
        "id": "C5fOR1e38uwZ"
      },
      "source": [
        "Добавьте уменьшение скорости обучения по ходу тренировки."
      ]
    },
    {
      "cell_type": "code",
      "metadata": {
        "id": "WgOBPKxpAIUb"
      },
      "source": [
        "from torch.optim import lr_scheduler\n",
        "# Learning rate annealing\n",
        "# Reduce your learning rate 2x every 2 epochs\n",
        "# Hint: look up learning rate schedulers in PyTorch. You might need to extend train_model function a little bit too!"
      ],
      "execution_count": null,
      "outputs": []
    },
    {
      "cell_type": "code",
      "metadata": {
        "id": "NUYYqhASgw-C"
      },
      "source": [
        "# This is how to implement the same main train loop in PyTorch. Pretty easy, right?\n",
        "\n",
        "def train_model(model, train_loader, val_loader, loss, optimizer, num_epochs):  \n",
        "    scheduler = lr_scheduler.StepLR(optimizer,1,0.5)\n",
        "\n",
        "    loss_history = []\n",
        "    train_history = []\n",
        "    val_history = []\n",
        "    for epoch in range(num_epochs):\n",
        "        model.train() # Enter train mode\n",
        "        \n",
        "        loss_accum = 0\n",
        "        correct_samples = 0\n",
        "        total_samples = 0\n",
        "        for i_step, (x, y) in enumerate(train_loader):\n",
        "            prediction = model(x)    \n",
        "            loss_value = loss(prediction, y)\n",
        "            optimizer.zero_grad()\n",
        "            loss_value.backward()\n",
        "            optimizer.step()\n",
        "            \n",
        "            _, indices = torch.max(prediction, 1)\n",
        "            correct_samples += torch.sum(indices == y)\n",
        "            total_samples += y.shape[0]\n",
        "            \n",
        "            loss_accum += loss_value\n",
        "\n",
        "        ave_loss = loss_accum / (i_step + 1)\n",
        "        train_accuracy = float(correct_samples) / total_samples\n",
        "        val_accuracy = compute_accuracy(model, val_loader)\n",
        "        scheduler.step()\n",
        "\n",
        "        loss_history.append(float(ave_loss))\n",
        "        train_history.append(train_accuracy)\n",
        "        val_history.append(val_accuracy)\n",
        "        \n",
        "        print(\"Average loss: %f, Train accuracy: %f, Val accuracy: %f\" % (ave_loss, train_accuracy, val_accuracy))\n",
        "        \n",
        "    return loss_history, train_history, val_history\n",
        "        \n",
        "def compute_accuracy(model, loader):\n",
        "    \"\"\"\n",
        "    Computes accuracy on the dataset wrapped in a loader\n",
        "    \n",
        "    Returns: accuracy as a float value between 0 and 1\n",
        "    \"\"\"\n",
        "    \n",
        "    correct_samples = 0\n",
        "    total_samples = 0\n",
        "    model.eval()\n",
        "     # Evaluation mode\n",
        "    # TODO: Implement the inference of the model on all of the batches from loader,\n",
        "    #       and compute the overall accuracy.\n",
        "    # Hint: PyTorch has the argmax function!\n",
        "    for i_step, (x, y) in enumerate(loader):\n",
        "      prediction = model(x)  \n",
        "      _, indices = torch.max(prediction, 1)\n",
        "      correct_samples += torch.sum(indices == y)\n",
        "      total_samples += y.shape[0]\n",
        "      val_accuracy = float(correct_samples) / total_samples\n",
        "    return val_accuracy"
      ],
      "execution_count": null,
      "outputs": []
    },
    {
      "cell_type": "code",
      "metadata": {
        "id": "lEZUqTrX4pxI"
      },
      "source": [
        "# Learning rate annealing\n",
        "# Reduce your learning rate 2x every 2 epochs\n",
        "# Hint: look up learning rate schedulers in PyTorch. You might need to extend train_model function a little bit too!del, train_loader, val_loader, loss, optimizer, 5)"
      ],
      "execution_count": null,
      "outputs": []
    },
    {
      "cell_type": "code",
      "metadata": {
        "colab": {
          "base_uri": "https://localhost:8080/",
          "height": 387
        },
        "id": "tdFD-TXk-ne8",
        "outputId": "d448571b-4786-4cda-9ae8-ada38b51d4b5"
      },
      "source": [
        "loss_history, train_history, val_history = train_model(nn_model, train_loader, val_loader, loss, optimizer, 5)"
      ],
      "execution_count": null,
      "outputs": [
        {
          "output_type": "stream",
          "name": "stdout",
          "text": [
            "Average loss: 1.350667, Train accuracy: 0.682302, Val accuracy: 0.691352\n",
            "Average loss: 1.350945, Train accuracy: 0.678651, Val accuracy: 0.697017\n",
            "Average loss: 1.348994, Train accuracy: 0.681295, Val accuracy: 0.701522\n",
            "Average loss: 1.346853, Train accuracy: 0.682831, Val accuracy: 0.699884\n"
          ]
        },
        {
          "output_type": "error",
          "ename": "KeyboardInterrupt",
          "evalue": "ignored",
          "traceback": [
            "\u001b[0;31m---------------------------------------------------------------------------\u001b[0m",
            "\u001b[0;31mKeyboardInterrupt\u001b[0m                         Traceback (most recent call last)",
            "\u001b[0;32m<ipython-input-18-46484290faa4>\u001b[0m in \u001b[0;36m<module>\u001b[0;34m()\u001b[0m\n\u001b[0;32m----> 1\u001b[0;31m \u001b[0mloss_history\u001b[0m\u001b[0;34m,\u001b[0m \u001b[0mtrain_history\u001b[0m\u001b[0;34m,\u001b[0m \u001b[0mval_history\u001b[0m \u001b[0;34m=\u001b[0m \u001b[0mtrain_model\u001b[0m\u001b[0;34m(\u001b[0m\u001b[0mnn_model\u001b[0m\u001b[0;34m,\u001b[0m \u001b[0mtrain_loader\u001b[0m\u001b[0;34m,\u001b[0m \u001b[0mval_loader\u001b[0m\u001b[0;34m,\u001b[0m \u001b[0mloss\u001b[0m\u001b[0;34m,\u001b[0m \u001b[0moptimizer\u001b[0m\u001b[0;34m,\u001b[0m \u001b[0;36m5\u001b[0m\u001b[0;34m)\u001b[0m\u001b[0;34m\u001b[0m\u001b[0;34m\u001b[0m\u001b[0m\n\u001b[0m",
            "\u001b[0;32m<ipython-input-16-90d4c77a372d>\u001b[0m in \u001b[0;36mtrain_model\u001b[0;34m(model, train_loader, val_loader, loss, optimizer, num_epochs)\u001b[0m\n\u001b[1;32m     18\u001b[0m             \u001b[0moptimizer\u001b[0m\u001b[0;34m.\u001b[0m\u001b[0mzero_grad\u001b[0m\u001b[0;34m(\u001b[0m\u001b[0;34m)\u001b[0m\u001b[0;34m\u001b[0m\u001b[0;34m\u001b[0m\u001b[0m\n\u001b[1;32m     19\u001b[0m             \u001b[0mloss_value\u001b[0m\u001b[0;34m.\u001b[0m\u001b[0mbackward\u001b[0m\u001b[0;34m(\u001b[0m\u001b[0;34m)\u001b[0m\u001b[0;34m\u001b[0m\u001b[0;34m\u001b[0m\u001b[0m\n\u001b[0;32m---> 20\u001b[0;31m             \u001b[0moptimizer\u001b[0m\u001b[0;34m.\u001b[0m\u001b[0mstep\u001b[0m\u001b[0;34m(\u001b[0m\u001b[0;34m)\u001b[0m\u001b[0;34m\u001b[0m\u001b[0;34m\u001b[0m\u001b[0m\n\u001b[0m\u001b[1;32m     21\u001b[0m \u001b[0;34m\u001b[0m\u001b[0m\n\u001b[1;32m     22\u001b[0m             \u001b[0m_\u001b[0m\u001b[0;34m,\u001b[0m \u001b[0mindices\u001b[0m \u001b[0;34m=\u001b[0m \u001b[0mtorch\u001b[0m\u001b[0;34m.\u001b[0m\u001b[0mmax\u001b[0m\u001b[0;34m(\u001b[0m\u001b[0mprediction\u001b[0m\u001b[0;34m,\u001b[0m \u001b[0;36m1\u001b[0m\u001b[0;34m)\u001b[0m\u001b[0;34m\u001b[0m\u001b[0;34m\u001b[0m\u001b[0m\n",
            "\u001b[0;32m/usr/local/lib/python3.7/dist-packages/torch/optim/lr_scheduler.py\u001b[0m in \u001b[0;36mwrapper\u001b[0;34m(*args, **kwargs)\u001b[0m\n\u001b[1;32m     63\u001b[0m                 \u001b[0minstance\u001b[0m\u001b[0;34m.\u001b[0m\u001b[0m_step_count\u001b[0m \u001b[0;34m+=\u001b[0m \u001b[0;36m1\u001b[0m\u001b[0;34m\u001b[0m\u001b[0;34m\u001b[0m\u001b[0m\n\u001b[1;32m     64\u001b[0m                 \u001b[0mwrapped\u001b[0m \u001b[0;34m=\u001b[0m \u001b[0mfunc\u001b[0m\u001b[0;34m.\u001b[0m\u001b[0m__get__\u001b[0m\u001b[0;34m(\u001b[0m\u001b[0minstance\u001b[0m\u001b[0;34m,\u001b[0m \u001b[0mcls\u001b[0m\u001b[0;34m)\u001b[0m\u001b[0;34m\u001b[0m\u001b[0;34m\u001b[0m\u001b[0m\n\u001b[0;32m---> 65\u001b[0;31m                 \u001b[0;32mreturn\u001b[0m \u001b[0mwrapped\u001b[0m\u001b[0;34m(\u001b[0m\u001b[0;34m*\u001b[0m\u001b[0margs\u001b[0m\u001b[0;34m,\u001b[0m \u001b[0;34m**\u001b[0m\u001b[0mkwargs\u001b[0m\u001b[0;34m)\u001b[0m\u001b[0;34m\u001b[0m\u001b[0;34m\u001b[0m\u001b[0m\n\u001b[0m\u001b[1;32m     66\u001b[0m \u001b[0;34m\u001b[0m\u001b[0m\n\u001b[1;32m     67\u001b[0m             \u001b[0;31m# Note that the returned function here is no longer a bound method,\u001b[0m\u001b[0;34m\u001b[0m\u001b[0;34m\u001b[0m\u001b[0;34m\u001b[0m\u001b[0m\n",
            "\u001b[0;32m/usr/local/lib/python3.7/dist-packages/torch/optim/optimizer.py\u001b[0m in \u001b[0;36mwrapper\u001b[0;34m(*args, **kwargs)\u001b[0m\n\u001b[1;32m     86\u001b[0m                 \u001b[0mprofile_name\u001b[0m \u001b[0;34m=\u001b[0m \u001b[0;34m\"Optimizer.step#{}.step\"\u001b[0m\u001b[0;34m.\u001b[0m\u001b[0mformat\u001b[0m\u001b[0;34m(\u001b[0m\u001b[0mobj\u001b[0m\u001b[0;34m.\u001b[0m\u001b[0m__class__\u001b[0m\u001b[0;34m.\u001b[0m\u001b[0m__name__\u001b[0m\u001b[0;34m)\u001b[0m\u001b[0;34m\u001b[0m\u001b[0;34m\u001b[0m\u001b[0m\n\u001b[1;32m     87\u001b[0m                 \u001b[0;32mwith\u001b[0m \u001b[0mtorch\u001b[0m\u001b[0;34m.\u001b[0m\u001b[0mautograd\u001b[0m\u001b[0;34m.\u001b[0m\u001b[0mprofiler\u001b[0m\u001b[0;34m.\u001b[0m\u001b[0mrecord_function\u001b[0m\u001b[0;34m(\u001b[0m\u001b[0mprofile_name\u001b[0m\u001b[0;34m)\u001b[0m\u001b[0;34m:\u001b[0m\u001b[0;34m\u001b[0m\u001b[0;34m\u001b[0m\u001b[0m\n\u001b[0;32m---> 88\u001b[0;31m                     \u001b[0;32mreturn\u001b[0m \u001b[0mfunc\u001b[0m\u001b[0;34m(\u001b[0m\u001b[0;34m*\u001b[0m\u001b[0margs\u001b[0m\u001b[0;34m,\u001b[0m \u001b[0;34m**\u001b[0m\u001b[0mkwargs\u001b[0m\u001b[0;34m)\u001b[0m\u001b[0;34m\u001b[0m\u001b[0;34m\u001b[0m\u001b[0m\n\u001b[0m\u001b[1;32m     89\u001b[0m             \u001b[0;32mreturn\u001b[0m \u001b[0mwrapper\u001b[0m\u001b[0;34m\u001b[0m\u001b[0;34m\u001b[0m\u001b[0m\n\u001b[1;32m     90\u001b[0m \u001b[0;34m\u001b[0m\u001b[0m\n",
            "\u001b[0;32m/usr/local/lib/python3.7/dist-packages/torch/autograd/grad_mode.py\u001b[0m in \u001b[0;36mdecorate_context\u001b[0;34m(*args, **kwargs)\u001b[0m\n\u001b[1;32m     26\u001b[0m         \u001b[0;32mdef\u001b[0m \u001b[0mdecorate_context\u001b[0m\u001b[0;34m(\u001b[0m\u001b[0;34m*\u001b[0m\u001b[0margs\u001b[0m\u001b[0;34m,\u001b[0m \u001b[0;34m**\u001b[0m\u001b[0mkwargs\u001b[0m\u001b[0;34m)\u001b[0m\u001b[0;34m:\u001b[0m\u001b[0;34m\u001b[0m\u001b[0;34m\u001b[0m\u001b[0m\n\u001b[1;32m     27\u001b[0m             \u001b[0;32mwith\u001b[0m \u001b[0mself\u001b[0m\u001b[0;34m.\u001b[0m\u001b[0m__class__\u001b[0m\u001b[0;34m(\u001b[0m\u001b[0;34m)\u001b[0m\u001b[0;34m:\u001b[0m\u001b[0;34m\u001b[0m\u001b[0;34m\u001b[0m\u001b[0m\n\u001b[0;32m---> 28\u001b[0;31m                 \u001b[0;32mreturn\u001b[0m \u001b[0mfunc\u001b[0m\u001b[0;34m(\u001b[0m\u001b[0;34m*\u001b[0m\u001b[0margs\u001b[0m\u001b[0;34m,\u001b[0m \u001b[0;34m**\u001b[0m\u001b[0mkwargs\u001b[0m\u001b[0;34m)\u001b[0m\u001b[0;34m\u001b[0m\u001b[0;34m\u001b[0m\u001b[0m\n\u001b[0m\u001b[1;32m     29\u001b[0m         \u001b[0;32mreturn\u001b[0m \u001b[0mcast\u001b[0m\u001b[0;34m(\u001b[0m\u001b[0mF\u001b[0m\u001b[0;34m,\u001b[0m \u001b[0mdecorate_context\u001b[0m\u001b[0;34m)\u001b[0m\u001b[0;34m\u001b[0m\u001b[0;34m\u001b[0m\u001b[0m\n\u001b[1;32m     30\u001b[0m \u001b[0;34m\u001b[0m\u001b[0m\n",
            "\u001b[0;32m/usr/local/lib/python3.7/dist-packages/torch/optim/sgd.py\u001b[0m in \u001b[0;36mstep\u001b[0;34m(self, closure)\u001b[0m\n\u001b[1;32m    115\u001b[0m                   \u001b[0mlr\u001b[0m\u001b[0;34m=\u001b[0m\u001b[0mlr\u001b[0m\u001b[0;34m,\u001b[0m\u001b[0;34m\u001b[0m\u001b[0;34m\u001b[0m\u001b[0m\n\u001b[1;32m    116\u001b[0m                   \u001b[0mdampening\u001b[0m\u001b[0;34m=\u001b[0m\u001b[0mdampening\u001b[0m\u001b[0;34m,\u001b[0m\u001b[0;34m\u001b[0m\u001b[0;34m\u001b[0m\u001b[0m\n\u001b[0;32m--> 117\u001b[0;31m                   nesterov=nesterov)\n\u001b[0m\u001b[1;32m    118\u001b[0m \u001b[0;34m\u001b[0m\u001b[0m\n\u001b[1;32m    119\u001b[0m             \u001b[0;31m# update momentum_buffers in state\u001b[0m\u001b[0;34m\u001b[0m\u001b[0;34m\u001b[0m\u001b[0;34m\u001b[0m\u001b[0m\n",
            "\u001b[0;32m/usr/local/lib/python3.7/dist-packages/torch/optim/_functional.py\u001b[0m in \u001b[0;36msgd\u001b[0;34m(params, d_p_list, momentum_buffer_list, weight_decay, momentum, lr, dampening, nesterov)\u001b[0m\n\u001b[1;32m    162\u001b[0m         \u001b[0md_p\u001b[0m \u001b[0;34m=\u001b[0m \u001b[0md_p_list\u001b[0m\u001b[0;34m[\u001b[0m\u001b[0mi\u001b[0m\u001b[0;34m]\u001b[0m\u001b[0;34m\u001b[0m\u001b[0;34m\u001b[0m\u001b[0m\n\u001b[1;32m    163\u001b[0m         \u001b[0;32mif\u001b[0m \u001b[0mweight_decay\u001b[0m \u001b[0;34m!=\u001b[0m \u001b[0;36m0\u001b[0m\u001b[0;34m:\u001b[0m\u001b[0;34m\u001b[0m\u001b[0;34m\u001b[0m\u001b[0m\n\u001b[0;32m--> 164\u001b[0;31m             \u001b[0md_p\u001b[0m \u001b[0;34m=\u001b[0m \u001b[0md_p\u001b[0m\u001b[0;34m.\u001b[0m\u001b[0madd\u001b[0m\u001b[0;34m(\u001b[0m\u001b[0mparam\u001b[0m\u001b[0;34m,\u001b[0m \u001b[0malpha\u001b[0m\u001b[0;34m=\u001b[0m\u001b[0mweight_decay\u001b[0m\u001b[0;34m)\u001b[0m\u001b[0;34m\u001b[0m\u001b[0;34m\u001b[0m\u001b[0m\n\u001b[0m\u001b[1;32m    165\u001b[0m \u001b[0;34m\u001b[0m\u001b[0m\n\u001b[1;32m    166\u001b[0m         \u001b[0;32mif\u001b[0m \u001b[0mmomentum\u001b[0m \u001b[0;34m!=\u001b[0m \u001b[0;36m0\u001b[0m\u001b[0;34m:\u001b[0m\u001b[0;34m\u001b[0m\u001b[0;34m\u001b[0m\u001b[0m\n",
            "\u001b[0;31mKeyboardInterrupt\u001b[0m: "
          ]
        }
      ]
    },
    {
      "cell_type": "code",
      "metadata": {
        "colab": {
          "base_uri": "https://localhost:8080/"
        },
        "id": "SKnjMa8R-ziI",
        "outputId": "23493149-ff7d-4a11-9661-d9f3d4b85b3c"
      },
      "source": [
        "nn_model, optimizer"
      ],
      "execution_count": null,
      "outputs": [
        {
          "output_type": "execute_result",
          "data": {
            "text/plain": [
              "(Sequential(\n",
              "   (0): Flattener()\n",
              "   (1): Linear(in_features=3072, out_features=100, bias=True)\n",
              "   (2): BatchNorm1d(100, eps=1e-05, momentum=0.1, affine=True, track_running_stats=True)\n",
              "   (3): ReLU(inplace=True)\n",
              "   (4): Linear(in_features=100, out_features=100, bias=True)\n",
              "   (5): BatchNorm1d(100, eps=1e-05, momentum=0.1, affine=True, track_running_stats=True)\n",
              "   (6): ReLU(inplace=True)\n",
              "   (7): Linear(in_features=100, out_features=10, bias=True)\n",
              " ), SGD (\n",
              " Parameter Group 0\n",
              "     dampening: 0\n",
              "     initial_lr: 0.001\n",
              "     lr: 1.953125e-06\n",
              "     momentum: 0\n",
              "     nesterov: False\n",
              "     weight_decay: 0.1\n",
              " ))"
            ]
          },
          "metadata": {},
          "execution_count": 19
        }
      ]
    },
    {
      "cell_type": "markdown",
      "metadata": {
        "id": "HOznLf7N8uwa"
      },
      "source": [
        "# Визуализируем ошибки модели\n",
        "\n",
        "Попробуем посмотреть, на каких изображениях наша модель ошибается.\n",
        "Для этого мы получим все предсказания модели на validation set и сравним их с истинными метками (ground truth).\n",
        "\n",
        "Первая часть - реализовать код на PyTorch, который вычисляет все предсказания модели на validation set.  \n",
        "Чтобы это сделать мы приводим код `SubsetSampler`, который просто проходит по всем заданным индексам последовательно и составляет из них батчи. \n",
        "\n",
        "Реализуйте функцию `evaluate_model`, которая прогоняет модель через все сэмплы validation set и запоминает предсказания модели и истинные метки."
      ]
    },
    {
      "cell_type": "code",
      "metadata": {
        "id": "RP0h7TRM8uwa"
      },
      "source": [
        "class SubsetSampler(Sampler):\n",
        "    \"\"\"Samples elements with given indices sequentially\n",
        "\n",
        "    Arguments:\n",
        "        indices (ndarray): indices of the samples to take\n",
        "    \"\"\"\n",
        "\n",
        "    def __init__(self, indices):\n",
        "        self.indices = indices\n",
        "\n",
        "    def __iter__(self):\n",
        "        return (self.indices[i] for i in range(len(self.indices)))\n",
        "\n",
        "    def __len__(self):\n",
        "        return len(self.indices)\n",
        "    \n",
        "    \n",
        "def evaluate_model(model, dataset, indices):\n",
        "    \"\"\"\n",
        "    Computes predictions and ground truth labels for the indices of the dataset\n",
        "    \n",
        "    Returns: \n",
        "    predictions: np array of ints - model predictions\n",
        "    grount_truth: np array of ints - actual labels of the dataset\n",
        "    \"\"\"\n",
        "    sampler = SubsetSampler(indices)\n",
        "    val_loader = torch.utils.data.DataLoader(dataset, batch_size=64,\n",
        "                                         sampler=SubsetSampler(indices))\n",
        "    model.eval() # Evaluation mode\n",
        "    ground_truth = []\n",
        "    predictions = []\n",
        "    for i, (x,y) in enumerate(val_loader):\n",
        "      # predictions.append(torch.max(model(x)))\n",
        "      _, pred_class = torch.max(model(x),1)\n",
        "      predictions += pred_class\n",
        "      print(len(predictions))\n",
        "\n",
        "      ground_truth += y\n",
        "    # TODO: Evaluate model on the list of indices and capture predictions\n",
        "    # and ground truth labels\n",
        "    # Hint: SubsetSampler above could be useful!\n",
        "    \n",
        "    # raise Exception(\"Not implemented\")\n",
        "    \n",
        "    return predictions, ground_truth\n",
        "\n",
        "# Evaluate model on validation\n",
        "predictions, gt = evaluate_model(nn_model, data_train, val_indices)\n",
        "# print(len(predictions), len(val_indices))\n",
        "assert len(predictions) == len(val_indices)\n",
        "assert len(gt) == len(val_indices)\n",
        "assert gt[100] == data_train[val_indices[100]][1]\n",
        "assert np.any(np.not_equal(gt, predictions))"
      ],
      "execution_count": null,
      "outputs": []
    },
    {
      "cell_type": "markdown",
      "metadata": {
        "id": "8EWlH6JX8uwb"
      },
      "source": [
        "## Confusion matrix\n",
        "Первая часть визуализации - вывести confusion matrix (https://en.wikipedia.org/wiki/Confusion_matrix ).\n",
        "\n",
        "Confusion matrix - это матрица, где каждой строке соответствуют классы предсказанный, а столбцу - классы истинных меток (ground truth). Число с координатами `i,j` - это количество сэмплов класса `j`, которые модель считает классом `i`.\n",
        "\n",
        "![image.png](attachment:image.png)\n",
        "\n",
        "Для того, чтобы облегчить вам задачу, ниже реализована функция `visualize_confusion_matrix` которая визуализирует такую матрицу.  \n",
        "Вам осталось реализовать функцию `build_confusion_matrix`, которая ее вычислит.\n",
        "\n",
        "Результатом должна быть матрица 10x10."
      ]
    },
    {
      "cell_type": "code",
      "metadata": {
        "id": "jKge-tX8anjg"
      },
      "source": [
        "from sklearn.metrics import confusion_matrix"
      ],
      "execution_count": 90,
      "outputs": []
    },
    {
      "cell_type": "code",
      "metadata": {
        "id": "2n8vJ7f58uwc",
        "colab": {
          "base_uri": "https://localhost:8080/",
          "height": 580
        },
        "outputId": "a106efa3-7f30-47d4-b99f-561cb65061a9"
      },
      "source": [
        "def visualize_confusion_matrix(confusion_matrix):\n",
        "    \"\"\"\n",
        "    Visualizes confusion matrix\n",
        "    \n",
        "    confusion_matrix: np array of ints, x axis - predicted class, y axis - actual class\n",
        "                      [i][j] should have the count of samples that were predicted to be class i,\n",
        "                      but have j in the ground truth\n",
        "                     \n",
        "    \"\"\"\n",
        "    # Adapted from \n",
        "    # https://stackoverflow.com/questions/2897826/confusion-matrix-with-number-of-classified-misclassified-instances-on-it-python\n",
        "    assert confusion_matrix.shape[0] == confusion_matrix.shape[1]\n",
        "    size = confusion_matrix.shape[0]\n",
        "    fig = plt.figure(figsize=(10,10))\n",
        "    plt.title(\"Confusion matrix\")\n",
        "    plt.ylabel(\"predicted\")\n",
        "    plt.xlabel(\"ground truth\")\n",
        "    res = plt.imshow(confusion_matrix, cmap='GnBu', interpolation='nearest')\n",
        "    cb = fig.colorbar(res)\n",
        "    plt.xticks(np.arange(size))\n",
        "    plt.yticks(np.arange(size))\n",
        "    for i, row in enumerate(confusion_matrix):\n",
        "        for j, count in enumerate(row):\n",
        "            plt.text(j, i, count, fontsize=14, horizontalalignment='center', verticalalignment='center')\n",
        "    \n",
        "def build_confusion_matrix(predictions, ground_truth):\n",
        "    \"\"\"\n",
        "    Builds confusion matrix from predictions and ground truth\n",
        "\n",
        "    predictions: np array of ints, model predictions for all validation samples\n",
        "    ground_truth: np array of ints, ground truth for all validation samples\n",
        "    \n",
        "    Returns:\n",
        "    np array of ints, (10,10), counts of samples for predicted/ground_truth classes\n",
        "    \"\"\"\n",
        "    \n",
        "    # confusion_matrix = np.zeros((10,10), np.int)\n",
        "    conf_matrix = confusion_matrix(ground_truth,predictions)\n",
        "    # TODO: Implement filling the prediction matrix\n",
        "    return conf_matrix\n",
        "\n",
        "confusion_matrix = build_confusion_matrix(predictions, gt)\n",
        "visualize_confusion_matrix(confusion_matrix)"
      ],
      "execution_count": 91,
      "outputs": [
        {
          "output_type": "display_data",
          "data": {
            "image/png": "[encoded data removed]",
            "text/plain": [
              "<Figure size 720x720 with 2 Axes>"
            ]
          },
          "metadata": {
            "needs_background": "light"
          }
        }
      ]
    },
    {
      "cell_type": "markdown",
      "metadata": {
        "id": "ERJdtieU8uwd"
      },
      "source": [
        "Наконец, посмотрим на изображения, соответствующие некоторым элементам этой матрицы.\n",
        "\n",
        "Как и раньше, вам дана функция `visualize_images`, которой нужно воспрользоваться при реализации функции `visualize_predicted_actual`. Эта функция должна вывести несколько примеров, соответствующих заданному элементу матрицы.\n",
        "\n",
        "Визуализируйте наиболее частые ошибки и попробуйте понять, почему модель их совершает."
      ]
    },
    {
      "cell_type": "code",
      "metadata": {
        "id": "dyezCLPL8uwd",
        "colab": {
          "base_uri": "https://localhost:8080/",
          "height": 206
        },
        "outputId": "1ff715bc-b765-4feb-952e-0cf7ac9313a5"
      },
      "source": [
        "data_train_images = dset.SVHN('./', split='train')\n",
        "\n",
        "def visualize_images(indices, data, title='', max_num=10):\n",
        "    \"\"\"\n",
        "    Visualizes several images from the dataset\n",
        " \n",
        "    indices: array of indices to visualize\n",
        "    data: torch Dataset with the images\n",
        "    title: string, title of the plot\n",
        "    max_num: int, max number of images to display\n",
        "    \"\"\"\n",
        "    to_show = min(len(indices), max_num)\n",
        "    fig = plt.figure(figsize=(10,1.5))\n",
        "    fig.suptitle(title)\n",
        "    for i, index in enumerate(indices[:to_show]):\n",
        "        plt.subplot(1,to_show, i+1)\n",
        "        plt.axis('off')\n",
        "        sample = data[index][0]\n",
        "        plt.imshow(sample)\n",
        "        \n",
        "def visualize_predicted_actual(predicted_class, gt_class, predictions, groud_truth, val_indices, data):\n",
        "    \"\"\"\n",
        "    Visualizes images of a ground truth class which were predicted as the other class \n",
        "    \n",
        "    predicted: int 0-9, index of the predicted class\n",
        "    gt_class: int 0-9, index of the ground truth class\n",
        "    predictions: np array of ints, model predictions for all validation samples\n",
        "    ground_truth: np array of ints, ground truth for all validation samples\n",
        "    val_indices: np array of ints, indices of validation samples\n",
        "    \"\"\"\n",
        "    # indicies_needed = val_indices[(predictions==predicted_class)&(groud_truth==gt_class)]\n",
        "    predictions = np.array([i.item() for i in predictions])\n",
        "    groud_truth = np.array([i.item() for i in groud_truth])\n",
        "    indicies_needed = val_indices[(predictions==predicted_class)&(groud_truth==gt_class)]\n",
        "    print(((predictions==gt_class)&(groud_truth==predicted_class)).sum())\n",
        "    visualize_images(indicies_needed,data)\n",
        "    # TODO: Implement visualization using visualize_images above\n",
        "    # predictions and ground_truth are provided for validation set only, defined by val_indices\n",
        "    # Hint: numpy index arrays might be helpful\n",
        "    # https://docs.scipy.org/doc/numpy/user/basics.indexing.html#index-arrays\n",
        "    # Please make the title meaningful!\n",
        "    \n",
        "    # raise Exception(\"Not implemented\")\n",
        "\n",
        "visualize_predicted_actual(6, 8, predictions, gt, np.array(val_indices), data_train_images)\n",
        "visualize_predicted_actual(1, 7, predictions, gt, np.array(val_indices), data_train_images)"
      ],
      "execution_count": 71,
      "outputs": [
        {
          "output_type": "stream",
          "name": "stdout",
          "text": [
            "2\n",
            "19\n"
          ]
        },
        {
          "output_type": "display_data",
          "data": {
            "image/png": "[encoded data removed]",
            "text/plain": [
              "<Figure size 720x108 with 2 Axes>"
            ]
          },
          "metadata": {
            "needs_background": "light"
          }
        },
        {
          "output_type": "display_data",
          "data": {
            "image/png": "[encoded data removed]",
            "text/plain": [
              "<Figure size 720x108 with 10 Axes>"
            ]
          },
          "metadata": {
            "needs_background": "light"
          }
        }
      ]
    },
    {
      "cell_type": "markdown",
      "metadata": {
        "id": "Opme5Bsx8uwe"
      },
      "source": [
        "# Переходим к свободным упражнениям!\n",
        "\n",
        "Натренируйте модель как можно лучше - экспериментируйте сами!\n",
        "Что следует обязательно попробовать:\n",
        "- перебор гиперпараметров с помощью валидационной выборки\n",
        "- другие оптимизаторы вместо SGD\n",
        "- изменение количества слоев и их размеров\n",
        "- наличие Batch Normalization\n",
        "\n",
        "Но ограничиваться этим не стоит!\n",
        "\n",
        "Точность на тестовой выборке должна быть доведена до **80%**"
      ]
    },
    {
      "cell_type": "code",
      "metadata": {
        "scrolled": true,
        "id": "htN-AzgG8uwe"
      },
      "source": [
        "# Experiment here!"
      ],
      "execution_count": null,
      "outputs": []
    },
    {
      "cell_type": "code",
      "metadata": {
        "id": "WQN73Req8uwe"
      },
      "source": [
        "# Как всегда, в конце проверяем на test set\n",
        "test_loader = torch.utils.data.DataLoader(data_test, batch_size=batch_size)\n",
        "test_accuracy = compute_accuracy(nn_model, test_loader)\n",
        "print(\"Test accuracy: %2.4f\" % test_accuracy)"
      ],
      "execution_count": null,
      "outputs": []
    },
    {
      "cell_type": "code",
      "metadata": {
        "id": "UXbCvAaPnglL"
      },
      "source": [
        "# This is how to implement the same main train loop in PyTorch. Pretty easy, right?\n",
        "\n",
        "def train_model(model, train_loader, val_loader, loss, optimizer, num_epochs):  \n",
        "    scheduler = lr_scheduler.StepLR(optimizer,1,0.5)\n",
        "\n",
        "    loss_history = []\n",
        "    train_history = []\n",
        "    val_history = []\n",
        "    for epoch in range(num_epochs):\n",
        "        model.train() # Enter train mode\n",
        "        \n",
        "        loss_accum = 0\n",
        "        correct_samples = 0\n",
        "        total_samples = 0\n",
        "        for i_step, (x, y) in enumerate(train_loader):\n",
        "            prediction = model(x)    \n",
        "            loss_value = loss(prediction, y)\n",
        "            optimizer.zero_grad()\n",
        "            loss_value.backward()\n",
        "            optimizer.step()\n",
        "            \n",
        "            _, indices = torch.max(prediction, 1)\n",
        "            correct_samples += torch.sum(indices == y)\n",
        "            total_samples += y.shape[0]\n",
        "            \n",
        "            loss_accum += loss_value\n",
        "\n",
        "        ave_loss = loss_accum / (i_step + 1)\n",
        "        train_accuracy = float(correct_samples) / total_samples\n",
        "        val_accuracy = compute_accuracy(model, val_loader)\n",
        "        scheduler.step()\n",
        "\n",
        "        loss_history.append(float(ave_loss))\n",
        "        train_history.append(train_accuracy)\n",
        "        val_history.append(val_accuracy)\n",
        "        \n",
        "        print(\"Average loss: %f, Train accuracy: %f, Val accuracy: %f\" % (ave_loss, train_accuracy, val_accuracy))\n",
        "        \n",
        "    return loss_history, train_history, val_history\n",
        "        \n",
        "def compute_accuracy(model, loader):\n",
        "    \"\"\"\n",
        "    Computes accuracy on the dataset wrapped in a loader\n",
        "    \n",
        "    Returns: accuracy as a float value between 0 and 1\n",
        "    \"\"\"\n",
        "    \n",
        "    correct_samples = 0\n",
        "    total_samples = 0\n",
        "    model.eval()\n",
        "     # Evaluation mode\n",
        "    # TODO: Implement the inference of the model on all of the batches from loader,\n",
        "    #       and compute the overall accuracy.\n",
        "    # Hint: PyTorch has the argmax function!\n",
        "    for i_step, (x, y) in enumerate(loader):\n",
        "      prediction = model(x)  \n",
        "      _, indices = torch.max(prediction, 1)\n",
        "      correct_samples += torch.sum(indices == y)\n",
        "      total_samples += y.shape[0]\n",
        "      val_accuracy = float(correct_samples) / total_samples\n",
        "    return val_accuracy"
      ],
      "execution_count": 78,
      "outputs": []
    },
    {
      "cell_type": "code",
      "metadata": {
        "id": "0IjW6tR58uwe",
        "colab": {
          "base_uri": "https://localhost:8080/"
        },
        "outputId": "ce7a2b09-19a9-44fd-b00f-5893269e6719"
      },
      "source": [
        "nn_model = nn.Sequential(\n",
        "            Flattener(),\n",
        "            nn.Linear(3*32*32, 200),\n",
        "            nn.ReLU(inplace=True),\n",
        "            nn.BatchNorm1d(200),\n",
        "            nn.Linear(200, 100), \n",
        "            nn.ReLU(inplace=True),\n",
        "            nn.BatchNorm1d(100),\n",
        "            nn.Linear(100, 100), \n",
        "            nn.BatchNorm1d(100),\n",
        "            nn.ReLU(inplace=True),\n",
        "            nn.Linear(100, 200), \n",
        "            nn.BatchNorm1d(200),\n",
        "            nn.ReLU(inplace=True),\n",
        "            nn.Linear(200, 10)\n",
        "         )\n",
        "\n",
        "optimizer = optim.SGD(nn_model.parameters(), lr=1e-2, weight_decay=1e-1)\n",
        "loss_history, train_history, val_history = train_model(nn_model, train_loader, val_loader, loss, optimizer, 10)"
      ],
      "execution_count": 84,
      "outputs": [
        {
          "output_type": "stream",
          "name": "stdout",
          "text": [
            "Average loss: 1.607461, Train accuracy: 0.491178, Val accuracy: 0.604054\n",
            "Average loss: 1.288339, Train accuracy: 0.643671, Val accuracy: 0.645758\n",
            "Average loss: 1.220667, Train accuracy: 0.693478, Val accuracy: 0.691147\n",
            "Average loss: 1.163601, Train accuracy: 0.725779, Val accuracy: 0.737561\n",
            "Average loss: 1.125011, Train accuracy: 0.748609, Val accuracy: 0.754078\n",
            "Average loss: 1.097032, Train accuracy: 0.764273, Val accuracy: 0.765682\n",
            "Average loss: 1.078939, Train accuracy: 0.774392, Val accuracy: 0.768889\n",
            "Average loss: 1.070072, Train accuracy: 0.776951, Val accuracy: 0.774213\n",
            "Average loss: 1.064916, Train accuracy: 0.779528, Val accuracy: 0.776671\n",
            "Average loss: 1.062084, Train accuracy: 0.781934, Val accuracy: 0.775374\n"
          ]
        }
      ]
    },
    {
      "cell_type": "code",
      "metadata": {
        "colab": {
          "base_uri": "https://localhost:8080/"
        },
        "id": "zdVoiPqQy4oz",
        "outputId": "ec31e0c7-a932-4ab7-cdf8-74ab568eb3cb"
      },
      "source": [
        "# Как всегда, в конце проверяем на test set\n",
        "test_loader = torch.utils.data.DataLoader(data_test, batch_size=batch_size)\n",
        "test_accuracy = compute_accuracy(nn_model, test_loader)\n",
        "print(\"Test accuracy: %2.4f\" % test_accuracy)"
      ],
      "execution_count": 85,
      "outputs": [
        {
          "output_type": "stream",
          "name": "stdout",
          "text": [
            "Test accuracy: 0.7593\n"
          ]
        }
      ]
    },
    {
      "cell_type": "code",
      "metadata": {
        "colab": {
          "base_uri": "https://localhost:8080/"
        },
        "id": "dmpHInp7zFqg",
        "outputId": "f913dfc3-f2aa-4274-bdfd-d48b7b4cb8ac"
      },
      "source": [
        "nn_model = nn.Sequential(\n",
        "            Flattener(),\n",
        "            nn.Linear(3*32*32, 300),\n",
        "            nn.ReLU(inplace=True),\n",
        "            nn.BatchNorm1d(300),\n",
        "            nn.Linear(300, 200), \n",
        "            nn.ReLU(inplace=True),\n",
        "            nn.BatchNorm1d(200),\n",
        "            nn.Linear(200, 200), \n",
        "            nn.BatchNorm1d(200),\n",
        "            nn.ReLU(inplace=True),\n",
        "            nn.Linear(200, 300), \n",
        "            nn.BatchNorm1d(300),\n",
        "            nn.ReLU(inplace=True),\n",
        "            nn.Linear(300, 10)\n",
        "         )\n",
        "\n",
        "optimizer = optim.SGD(nn_model.parameters(), lr=1e-2, weight_decay=1e-1)\n",
        "loss_history, train_history, val_history = train_model(nn_model, train_loader, val_loader, loss, optimizer, 10)"
      ],
      "execution_count": 87,
      "outputs": [
        {
          "output_type": "stream",
          "name": "stdout",
          "text": [
            "Average loss: 1.494185, Train accuracy: 0.532488, Val accuracy: 0.584738\n",
            "Average loss: 1.171776, Train accuracy: 0.686073, Val accuracy: 0.711283\n",
            "Average loss: 1.092546, Train accuracy: 0.744514, Val accuracy: 0.752918\n",
            "Average loss: 1.035909, Train accuracy: 0.779545, Val accuracy: 0.792369\n",
            "Average loss: 0.993367, Train accuracy: 0.805122, Val accuracy: 0.813392\n",
            "Average loss: 0.965009, Train accuracy: 0.821366, Val accuracy: 0.822742\n",
            "Average loss: 0.947713, Train accuracy: 0.831434, Val accuracy: 0.827043\n",
            "Average loss: 0.938899, Train accuracy: 0.836092, Val accuracy: 0.826974\n",
            "Average loss: 0.931996, Train accuracy: 0.841023, Val accuracy: 0.829227\n",
            "Average loss: 0.930601, Train accuracy: 0.841654, Val accuracy: 0.829158\n"
          ]
        }
      ]
    },
    {
      "cell_type": "code",
      "metadata": {
        "colab": {
          "base_uri": "https://localhost:8080/"
        },
        "id": "mWbhldbV0QcW",
        "outputId": "d35b6201-7dfb-4c4e-b3ac-b5ed16302cf7"
      },
      "source": [
        "# Как всегда, в конце проверяем на test set\n",
        "test_loader = torch.utils.data.DataLoader(data_test, batch_size=batch_size)\n",
        "test_accuracy = compute_accuracy(nn_model, test_loader)\n",
        "print(\"Test accuracy: %2.4f\" % test_accuracy)"
      ],
      "execution_count": 88,
      "outputs": [
        {
          "output_type": "stream",
          "name": "stdout",
          "text": [
            "Test accuracy: 0.8067\n"
          ]
        }
      ]
    }
  ]
}